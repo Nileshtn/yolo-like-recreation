{
 "cells": [
  {
   "cell_type": "code",
   "execution_count": null,
   "id": "022787aa",
   "metadata": {},
   "outputs": [],
   "source": [
    "import os\n",
    "import torch\n",
    "import torch.nn.functional as F\n",
    "from torch.utils.data import DataLoader, Dataset"
   ]
  },
  {
   "cell_type": "code",
   "execution_count": null,
   "id": "8a736786",
   "metadata": {},
   "outputs": [
    {
     "ename": "IndentationError",
     "evalue": "expected an indented block (1708891231.py, line 13)",
     "output_type": "error",
     "traceback": [
      "\u001b[0;36m  Cell \u001b[0;32mIn[6], line 13\u001b[0;36m\u001b[0m\n\u001b[0;31m    \u001b[0m\n\u001b[0m    ^\u001b[0m\n\u001b[0;31mIndentationError\u001b[0m\u001b[0;31m:\u001b[0m expected an indented block\n"
     ]
    }
   ],
   "source": [
    "class GDataLoader(Dataset):\n",
    "    def __init__(self, path):\n",
    "        super().__init__()\n",
    "        self.images = self.__list_data_path(os.path.join(path, \"images\"))\n",
    "        self.labels = self.__list_data_path(os.path.join(path, \"labels\"))\n",
    "\n",
    "    def __list_data_path(self, path):\n",
    "        paths = os.listdir(path)\n",
    "        return sorted(paths)\n",
    "    \n",
    "    def __decode_lable(self, idx):\n",
    "        with open(self.labels[idx], 'r') as file:\n",
    "            content = [i.split(' ') for i in file.read().split('\\n')]\n",
    "            \n",
    "        "
   ]
  },
  {
   "cell_type": "code",
   "execution_count": 44,
   "id": "e6746158",
   "metadata": {},
   "outputs": [],
   "source": [
    "with open(\"/home/nileshtn/Desktop/detection/Data/train/labels/5--4-_png_jpg.rf.bc1807ea1e10db473a111b6b1031ca08.txt\") as file:\n",
    "    label_tensor = torch.tensor(\n",
    "                                [[float(x) for x in line.strip().split()] for line in file if line.strip()],\n",
    "                                dtype=torch.float64\n",
    "                            )"
   ]
  },
  {
   "cell_type": "code",
   "execution_count": 45,
   "id": "682c4a1c",
   "metadata": {},
   "outputs": [
    {
     "data": {
      "text/plain": [
       "tensor([[0.0000, 0.7234, 0.3203, 0.2594, 0.3375],\n",
       "        [0.0000, 0.1242, 0.5070, 0.2484, 0.5609]], dtype=torch.float64)"
      ]
     },
     "execution_count": 45,
     "metadata": {},
     "output_type": "execute_result"
    }
   ],
   "source": [
    "label_tensor"
   ]
  },
  {
   "cell_type": "code",
   "execution_count": null,
   "id": "22cdd3bd",
   "metadata": {},
   "outputs": [],
   "source": []
  }
 ],
 "metadata": {
  "kernelspec": {
   "display_name": "deepsound",
   "language": "python",
   "name": "python3"
  },
  "language_info": {
   "codemirror_mode": {
    "name": "ipython",
    "version": 3
   },
   "file_extension": ".py",
   "mimetype": "text/x-python",
   "name": "python",
   "nbconvert_exporter": "python",
   "pygments_lexer": "ipython3",
   "version": "3.9.20"
  }
 },
 "nbformat": 4,
 "nbformat_minor": 5
}
