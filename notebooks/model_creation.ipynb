{
 "cells": [
  {
   "cell_type": "code",
   "execution_count": 1,
   "id": "721730ad",
   "metadata": {},
   "outputs": [],
   "source": [
    "import torch\n",
    "import torch.nn as nn\n",
    "import torch.nn.functional as F"
   ]
  },
  {
   "cell_type": "code",
   "execution_count": 192,
   "id": "e66faf20",
   "metadata": {},
   "outputs": [],
   "source": [
    "class DoubleConv(nn.Module):\n",
    "    def __init__(self,in_channel, out_channel, attach=False):\n",
    "        super().__init__()\n",
    "        self.attach = attach\n",
    "        if attach:\n",
    "            self.double_conv = nn.Sequential(nn.Conv2d(in_channel*2, out_channel, 3, 1, 1),\n",
    "                                            nn.ReLU(),\n",
    "                                            nn.Conv2d(out_channel, out_channel, 3, 1, 1),\n",
    "                                            nn.ReLU())\n",
    "        else:\n",
    "            self.double_conv = nn.Sequential(nn.Conv2d(in_channel, out_channel, 3, 1),\n",
    "                                            nn.ReLU(),\n",
    "                                            nn.Conv2d(out_channel, out_channel, 3, 1),\n",
    "                                            nn.ReLU())\n",
    "            \n",
    "    def forward(self, x, o=None):\n",
    "        if not self.attach:\n",
    "            return self.double_conv(x)\n",
    "        x = torch.concat((x, o), dim = 1)\n",
    "        return self.double_conv(x)\n",
    "    \n",
    "    \n",
    "class AttachConvertor(nn.Module):\n",
    "    def __init__(self,in_channel, out_channel, down_count):\n",
    "        super().__init__()\n",
    "        self.maxpool = nn.MaxPool2d(down_count)\n",
    "        self.a_convertor = nn.Sequential(DoubleConv(in_channel, out_channel),\n",
    "                                         nn.ReLU())\n",
    "        \n",
    "    def forward(self, x):\n",
    "        return self.maxpool(self.a_convertor(x))\n",
    "    \n",
    "    \n",
    "class Network(nn.Module):\n",
    "    def __init__(self, in_channel, classes):\n",
    "        super().__init__()\n",
    "        self.maxpool = nn.MaxPool2d(2)\n",
    "        self.head = DoubleConv(in_channel, 128)\n",
    "        self.attact_l1 = AttachConvertor(in_channel, 128, 2)\n",
    "        self.conv_l1 = DoubleConv(128, 64, True)\n",
    "        self.attact_l2 = AttachConvertor(in_channel, 64, 4)\n",
    "        self.conv_l2 = DoubleConv(64, 32, True)\n",
    "        self.attact_l3 = AttachConvertor(in_channel, 32, 8)\n",
    "        self.conv_l3 = DoubleConv(32, 16, True)\n",
    "        self.attact_t = AttachConvertor(in_channel, 16, 16)\n",
    "        self.tail = nn.Conv2d(16, 4+classes, 1)\n",
    "        \n",
    "    def forward(self, x):\n",
    "        a1 = self.attact_l1(x)\n",
    "        a2 = self.attact_l2(x)\n",
    "        a3 = self.attact_l3(x)\n",
    "        at = self.attact_t(x)\n",
    "\n",
    "        x = self.maxpool(self.head(x))\n",
    "        x = self.maxpool(self.conv_l1(x, a1))\n",
    "        x = self.maxpool(self.conv_l2(x, a2))\n",
    "        x = self.maxpool(self.conv_l3(x, a3))\n",
    "        x = self.tail(x)\n",
    "        \n",
    "        return x"
   ]
  },
  {
   "cell_type": "code",
   "execution_count": 196,
   "id": "270194e1",
   "metadata": {},
   "outputs": [
    {
     "data": {
      "text/plain": [
       "torch.Size([1, 5, 15, 15])"
      ]
     },
     "execution_count": 196,
     "metadata": {},
     "output_type": "execute_result"
    }
   ],
   "source": [
    "nn_network = Network(3, 1)\n",
    "a = torch.randn((1, 3, 256, 256))\n",
    "nn_network(a).shape"
   ]
  }
 ],
 "metadata": {
  "kernelspec": {
   "display_name": "deepsound",
   "language": "python",
   "name": "python3"
  },
  "language_info": {
   "codemirror_mode": {
    "name": "ipython",
    "version": 3
   },
   "file_extension": ".py",
   "mimetype": "text/x-python",
   "name": "python",
   "nbconvert_exporter": "python",
   "pygments_lexer": "ipython3",
   "version": "3.9.20"
  }
 },
 "nbformat": 4,
 "nbformat_minor": 5
}
